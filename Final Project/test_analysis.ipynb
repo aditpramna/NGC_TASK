{
 "cells": [
  {
   "cell_type": "code",
   "execution_count": 1,
   "metadata": {},
   "outputs": [],
   "source": [
    "# import libraries according to our data needs\n",
    "import pandas as pd  \n",
    "import matplotlib.pyplot as plt\n",
    "import seaborn as sns\n",
    "import numpy as np\n",
    "from scipy import stats"
   ]
  },
  {
   "cell_type": "code",
   "execution_count": 2,
   "metadata": {},
   "outputs": [
    {
     "data": {
      "text/html": [
       "<div>\n",
       "<style scoped>\n",
       "    .dataframe tbody tr th:only-of-type {\n",
       "        vertical-align: middle;\n",
       "    }\n",
       "\n",
       "    .dataframe tbody tr th {\n",
       "        vertical-align: top;\n",
       "    }\n",
       "\n",
       "    .dataframe thead th {\n",
       "        text-align: right;\n",
       "    }\n",
       "</style>\n",
       "<table border=\"1\" class=\"dataframe\">\n",
       "  <thead>\n",
       "    <tr style=\"text-align: right;\">\n",
       "      <th></th>\n",
       "      <th>product_title</th>\n",
       "      <th>shipping_city</th>\n",
       "      <th>referrer_source</th>\n",
       "      <th>orders</th>\n",
       "      <th>gross_sales</th>\n",
       "      <th>discounts</th>\n",
       "      <th>returns</th>\n",
       "      <th>net_sales</th>\n",
       "      <th>shipping</th>\n",
       "      <th>total_sales</th>\n",
       "      <th>net_quantity</th>\n",
       "    </tr>\n",
       "  </thead>\n",
       "  <tbody>\n",
       "    <tr>\n",
       "      <th>0</th>\n",
       "      <td>Canary Scarf Seafoam</td>\n",
       "      <td>Kota Palembang</td>\n",
       "      <td>Social</td>\n",
       "      <td>1</td>\n",
       "      <td>275.000.000</td>\n",
       "      <td>0</td>\n",
       "      <td>0</td>\n",
       "      <td>275.000.000</td>\n",
       "      <td>0</td>\n",
       "      <td>275.000.000</td>\n",
       "      <td>1</td>\n",
       "    </tr>\n",
       "    <tr>\n",
       "      <th>1</th>\n",
       "      <td>Claire Blouse Burnt Cinnamon</td>\n",
       "      <td>Kota Palembang</td>\n",
       "      <td>Social</td>\n",
       "      <td>1</td>\n",
       "      <td>238.000.000</td>\n",
       "      <td>0</td>\n",
       "      <td>0</td>\n",
       "      <td>238.000.000</td>\n",
       "      <td>0</td>\n",
       "      <td>238.000.000</td>\n",
       "      <td>1</td>\n",
       "    </tr>\n",
       "    <tr>\n",
       "      <th>2</th>\n",
       "      <td>Shea Blouse Sahara</td>\n",
       "      <td>Kab. Bogor</td>\n",
       "      <td>Social</td>\n",
       "      <td>1</td>\n",
       "      <td>535.000.000</td>\n",
       "      <td>0</td>\n",
       "      <td>0</td>\n",
       "      <td>535.000.000</td>\n",
       "      <td>0</td>\n",
       "      <td>535.000.000</td>\n",
       "      <td>1</td>\n",
       "    </tr>\n",
       "    <tr>\n",
       "      <th>3</th>\n",
       "      <td>Sheila Dress Clove</td>\n",
       "      <td>Kab. Bogor</td>\n",
       "      <td>Social</td>\n",
       "      <td>1</td>\n",
       "      <td>475.000.000</td>\n",
       "      <td>0</td>\n",
       "      <td>0</td>\n",
       "      <td>475.000.000</td>\n",
       "      <td>0</td>\n",
       "      <td>475.000.000</td>\n",
       "      <td>1</td>\n",
       "    </tr>\n",
       "    <tr>\n",
       "      <th>4</th>\n",
       "      <td>Amaya Blouse Hazelwood</td>\n",
       "      <td>Kab. Bogor</td>\n",
       "      <td>Social</td>\n",
       "      <td>1</td>\n",
       "      <td>545.000.000</td>\n",
       "      <td>0</td>\n",
       "      <td>0</td>\n",
       "      <td>545.000.000</td>\n",
       "      <td>0</td>\n",
       "      <td>545.000.000</td>\n",
       "      <td>1</td>\n",
       "    </tr>\n",
       "  </tbody>\n",
       "</table>\n",
       "</div>"
      ],
      "text/plain": [
       "                  product_title   shipping_city referrer_source  orders  \\\n",
       "0          Canary Scarf Seafoam  Kota Palembang          Social       1   \n",
       "1  Claire Blouse Burnt Cinnamon  Kota Palembang          Social       1   \n",
       "2            Shea Blouse Sahara      Kab. Bogor          Social       1   \n",
       "3            Sheila Dress Clove      Kab. Bogor          Social       1   \n",
       "4        Amaya Blouse Hazelwood      Kab. Bogor          Social       1   \n",
       "\n",
       "   gross_sales discounts returns    net_sales  shipping  total_sales  \\\n",
       "0  275.000.000         0       0  275.000.000         0  275.000.000   \n",
       "1  238.000.000         0       0  238.000.000         0  238.000.000   \n",
       "2  535.000.000         0       0  535.000.000         0  535.000.000   \n",
       "3  475.000.000         0       0  475.000.000         0  475.000.000   \n",
       "4  545.000.000         0       0  545.000.000         0  545.000.000   \n",
       "\n",
       "   net_quantity  \n",
       "0             1  \n",
       "1             1  \n",
       "2             1  \n",
       "3             1  \n",
       "4             1  "
      ]
     },
     "execution_count": 2,
     "metadata": {},
     "output_type": "execute_result"
    }
   ],
   "source": [
    "# Membaca file Excel\n",
    "df = pd.read_excel('Copy of Test-Analyst.xlsx')\n",
    "\n",
    "# Menampilkan isi DataFrame\n",
    "df.head()\n"
   ]
  },
  {
   "cell_type": "code",
   "execution_count": 3,
   "metadata": {},
   "outputs": [
    {
     "data": {
      "text/plain": [
       "(219, 11)"
      ]
     },
     "execution_count": 3,
     "metadata": {},
     "output_type": "execute_result"
    }
   ],
   "source": [
    "df.shape"
   ]
  },
  {
   "cell_type": "code",
   "execution_count": null,
   "metadata": {},
   "outputs": [],
   "source": []
  }
 ],
 "metadata": {
  "kernelspec": {
   "display_name": "Hck7",
   "language": "python",
   "name": "python3"
  },
  "language_info": {
   "codemirror_mode": {
    "name": "ipython",
    "version": 3
   },
   "file_extension": ".py",
   "mimetype": "text/x-python",
   "name": "python",
   "nbconvert_exporter": "python",
   "pygments_lexer": "ipython3",
   "version": "3.8.17"
  }
 },
 "nbformat": 4,
 "nbformat_minor": 2
}
