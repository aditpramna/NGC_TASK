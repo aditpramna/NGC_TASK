{
 "cells": [
  {
   "cell_type": "markdown",
   "metadata": {},
   "source": [
    "```\n",
    "=================================================\n",
    "Live Code 1\n",
    "\n",
    "Nama  : Aditya Pramana Putra\n",
    "Batch : Hck-7\n",
    "\n",
    "Automatisasi untuk membantu tim marketing pemrograman diskon untuk membeship.\n",
    "=================================================\n",
    "```"
   ]
  },
  {
   "cell_type": "code",
   "execution_count": 31,
   "metadata": {},
   "outputs": [],
   "source": [
    "# Membuat fungsi untuk menghitung diskon sesuai dengan tipe membership.\n",
    "def discount(price, membership):\n",
    "    if membership == 'Regular':\n",
    "        if price > 10000:\n",
    "            return 0.10\n",
    "        else:\n",
    "            return 0.05\n",
    "    elif membership == 'VIP':\n",
    "        if price > 50000:\n",
    "            return 0.30\n",
    "        else:\n",
    "            return 0.20\n",
    "    else:\n",
    "        return 0\n",
    "\n",
    "# Fungsi untuk menghitung total belanja dikurangi diskon.\n",
    "def total_belanja(membership,*price):\n",
    "    print('Customer type : ', membership)\n",
    "    print('Prices : ', price)\n",
    "    # harga = list(price) - [4000,15000,15300,30000,1000]\n",
    "    result = list(price)\n",
    "    list_hasil = []\n",
    "    # list_hasil.append(result)\n",
    "    for i in result:\n",
    "      final = i - i*discount(i, membership)\n",
    "      list_hasil.append(final)\n",
    "    return sum(list_hasil)\n"
   ]
  },
  {
   "cell_type": "code",
   "execution_count": 32,
   "metadata": {},
   "outputs": [
    {
     "name": "stdout",
     "output_type": "stream",
     "text": [
      "Customer type :  VIP\n",
      "Prices :  (20000, 50000, 51000, 100000, 5000)\n"
     ]
    },
    {
     "data": {
      "text/plain": [
       "165700.0"
      ]
     },
     "execution_count": 32,
     "metadata": {},
     "output_type": "execute_result"
    }
   ],
   "source": [
    "total_belanja('VIP',20000,50000,51000,100000,5000)"
   ]
  },
  {
   "cell_type": "code",
   "execution_count": 33,
   "metadata": {},
   "outputs": [
    {
     "name": "stdout",
     "output_type": "stream",
     "text": [
      "Customer type :  -\n",
      "Prices :  (10000, 30000, 40000, 72000, 15500)\n"
     ]
    },
    {
     "data": {
      "text/plain": [
       "167500"
      ]
     },
     "execution_count": 33,
     "metadata": {},
     "output_type": "execute_result"
    }
   ],
   "source": [
    "total_belanja('-',10000,30000,40000,72000,15500)"
   ]
  },
  {
   "cell_type": "markdown",
   "metadata": {},
   "source": [
    "# Unittesting"
   ]
  },
  {
   "cell_type": "code",
   "execution_count": 34,
   "metadata": {},
   "outputs": [
    {
     "name": "stderr",
     "output_type": "stream",
     "text": [
      "."
     ]
    },
    {
     "name": "stdout",
     "output_type": "stream",
     "text": [
      "Customer type :  VIP\n",
      "Prices :  (20000, 50000, 51000, 100000, 5000)\n"
     ]
    },
    {
     "name": "stderr",
     "output_type": "stream",
     "text": [
      "\n",
      "----------------------------------------------------------------------\n",
      "Ran 1 test in 0.002s\n",
      "\n",
      "OK\n"
     ]
    },
    {
     "data": {
      "text/plain": [
       "<unittest.main.TestProgram at 0x2374be83a60>"
      ]
     },
     "execution_count": 34,
     "metadata": {},
     "output_type": "execute_result"
    }
   ],
   "source": [
    "import unittest\n",
    "\n",
    "class Test_total_belanja(unittest.TestCase):  # class testing untuk menghitung total diskon belanja     \n",
    "    def test_total_belanja(self): # kita buat fungsi baru untuk test\n",
    "        amt  = total_belanja('VIP',20000,50000,51000,100000,5000) # kita panggil fungsi yang telah kita buat sebelumnya\n",
    "        self.assertEqual(amt, 165700.0) # kita samakan hasil dengan ketentuan total belanja yang kita buat\n",
    "\n",
    "unittest.main(argv=[''], exit=False) # menutup hasil test pada ipynb"
   ]
  }
 ],
 "metadata": {
  "kernelspec": {
   "display_name": "Hck7",
   "language": "python",
   "name": "python3"
  },
  "language_info": {
   "codemirror_mode": {
    "name": "ipython",
    "version": 3
   },
   "file_extension": ".py",
   "mimetype": "text/x-python",
   "name": "python",
   "nbconvert_exporter": "python",
   "pygments_lexer": "ipython3",
   "version": "3.8.17"
  },
  "orig_nbformat": 4
 },
 "nbformat": 4,
 "nbformat_minor": 2
}
