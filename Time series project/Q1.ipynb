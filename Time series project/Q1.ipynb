{
 "cells": [
  {
   "cell_type": "code",
   "execution_count": 32,
   "metadata": {},
   "outputs": [],
   "source": [
    "import pandas as pd\n",
    "import numpy as np\n",
    "import matplotlib.pyplot as plt\n",
    "from statsmodels.tsa.stattools import adfuller\n",
    "from statsmodels.tsa.api import ExponentialSmoothing, SimpleExpSmoothing, Holt\n",
    "from sklearn.metrics import mean_squared_error, mean_absolute_error\n",
    "from math import sqrt\n",
    "from statsmodels.tsa.arima_model import ARMA\n",
    "from statsmodels.tsa.arima.model import ARIMA\n",
    "from statsmodels.graphics.tsaplots import plot_acf, plot_pacf\n",
    "import warnings\n",
    "warnings.filterwarnings('ignore')"
   ]
  },
  {
   "cell_type": "code",
   "execution_count": 33,
   "metadata": {},
   "outputs": [
    {
     "data": {
      "text/html": [
       "<div>\n",
       "<style scoped>\n",
       "    .dataframe tbody tr th:only-of-type {\n",
       "        vertical-align: middle;\n",
       "    }\n",
       "\n",
       "    .dataframe tbody tr th {\n",
       "        vertical-align: top;\n",
       "    }\n",
       "\n",
       "    .dataframe thead th {\n",
       "        text-align: right;\n",
       "    }\n",
       "</style>\n",
       "<table border=\"1\" class=\"dataframe\">\n",
       "  <thead>\n",
       "    <tr style=\"text-align: right;\">\n",
       "      <th></th>\n",
       "      <th>Unnamed: 0</th>\n",
       "      <th>unnamed</th>\n",
       "      <th>customer_id</th>\n",
       "      <th>advertisement_number</th>\n",
       "      <th>brand</th>\n",
       "      <th>model</th>\n",
       "      <th>variant</th>\n",
       "      <th>year</th>\n",
       "      <th>kilometer</th>\n",
       "      <th>color</th>\n",
       "      <th>transmission</th>\n",
       "      <th>fuel</th>\n",
       "      <th>city</th>\n",
       "      <th>ad_date</th>\n",
       "      <th>price</th>\n",
       "    </tr>\n",
       "  </thead>\n",
       "  <tbody>\n",
       "    <tr>\n",
       "      <th>0</th>\n",
       "      <td>0</td>\n",
       "      <td>89732</td>\n",
       "      <td>5e179871bc3087fa6cb10a21</td>\n",
       "      <td>777375802</td>\n",
       "      <td>Volkswagen</td>\n",
       "      <td>Golf</td>\n",
       "      <td>1.6 FSi Midline</td>\n",
       "      <td>2005</td>\n",
       "      <td>186.0</td>\n",
       "      <td>dark_red</td>\n",
       "      <td>manual</td>\n",
       "      <td>gasoline</td>\n",
       "      <td>Istanbul</td>\n",
       "      <td>2/28/2023</td>\n",
       "      <td>308.75 TL</td>\n",
       "    </tr>\n",
       "    <tr>\n",
       "      <th>1</th>\n",
       "      <td>1</td>\n",
       "      <td>89733</td>\n",
       "      <td>5e179871bc3087fa6cb10a22</td>\n",
       "      <td>777255310</td>\n",
       "      <td>Volkswagen</td>\n",
       "      <td>Golf</td>\n",
       "      <td>1.2 TSI Midline Plus</td>\n",
       "      <td>2016</td>\n",
       "      <td>13.6</td>\n",
       "      <td>red</td>\n",
       "      <td>manual</td>\n",
       "      <td>gasoline</td>\n",
       "      <td>Izmir</td>\n",
       "      <td>2/12/2023</td>\n",
       "      <td>705.25 TL</td>\n",
       "    </tr>\n",
       "    <tr>\n",
       "      <th>2</th>\n",
       "      <td>2</td>\n",
       "      <td>89734</td>\n",
       "      <td>5e179871bc3087fa6cb10a23</td>\n",
       "      <td>776963108</td>\n",
       "      <td>Volkswagen</td>\n",
       "      <td>Jetta</td>\n",
       "      <td>1.2 TSI Trendline</td>\n",
       "      <td>2012</td>\n",
       "      <td>108.0</td>\n",
       "      <td>white</td>\n",
       "      <td>manual</td>\n",
       "      <td>gasoline</td>\n",
       "      <td>Erzurum</td>\n",
       "      <td>2/23/2023</td>\n",
       "      <td>468.0 TL</td>\n",
       "    </tr>\n",
       "    <tr>\n",
       "      <th>3</th>\n",
       "      <td>3</td>\n",
       "      <td>89735</td>\n",
       "      <td>5e179871bc3087fa6cb10a24</td>\n",
       "      <td>776938945</td>\n",
       "      <td>Volkswagen</td>\n",
       "      <td>Jetta</td>\n",
       "      <td>1.4 TSI Comfortline</td>\n",
       "      <td>2008</td>\n",
       "      <td>157.0</td>\n",
       "      <td>blue</td>\n",
       "      <td>manual</td>\n",
       "      <td>gasoline</td>\n",
       "      <td>Kutahya</td>\n",
       "      <td>2/14/2023</td>\n",
       "      <td>422.5 TL</td>\n",
       "    </tr>\n",
       "    <tr>\n",
       "      <th>4</th>\n",
       "      <td>4</td>\n",
       "      <td>89736</td>\n",
       "      <td>5e179871bc3087fa6cb10a25</td>\n",
       "      <td>776932300</td>\n",
       "      <td>Volkswagen</td>\n",
       "      <td>Jetta</td>\n",
       "      <td>1.2 TSI Trendline</td>\n",
       "      <td>2012</td>\n",
       "      <td>127.0</td>\n",
       "      <td>silver_gray</td>\n",
       "      <td>manual</td>\n",
       "      <td>gasoline</td>\n",
       "      <td>Kutahya</td>\n",
       "      <td>2/1/2023</td>\n",
       "      <td>507.0 TL</td>\n",
       "    </tr>\n",
       "  </tbody>\n",
       "</table>\n",
       "</div>"
      ],
      "text/plain": [
       "   Unnamed: 0  unnamed               customer_id  advertisement_number  \\\n",
       "0           0    89732  5e179871bc3087fa6cb10a21             777375802   \n",
       "1           1    89733  5e179871bc3087fa6cb10a22             777255310   \n",
       "2           2    89734  5e179871bc3087fa6cb10a23             776963108   \n",
       "3           3    89735  5e179871bc3087fa6cb10a24             776938945   \n",
       "4           4    89736  5e179871bc3087fa6cb10a25             776932300   \n",
       "\n",
       "        brand  model               variant  year  kilometer        color  \\\n",
       "0  Volkswagen   Golf       1.6 FSi Midline  2005      186.0     dark_red   \n",
       "1  Volkswagen   Golf  1.2 TSI Midline Plus  2016       13.6          red   \n",
       "2  Volkswagen  Jetta     1.2 TSI Trendline  2012      108.0        white   \n",
       "3  Volkswagen  Jetta   1.4 TSI Comfortline  2008      157.0         blue   \n",
       "4  Volkswagen  Jetta     1.2 TSI Trendline  2012      127.0  silver_gray   \n",
       "\n",
       "  transmission      fuel      city    ad_date      price  \n",
       "0       manual  gasoline  Istanbul  2/28/2023  308.75 TL  \n",
       "1       manual  gasoline     Izmir  2/12/2023  705.25 TL  \n",
       "2       manual  gasoline   Erzurum  2/23/2023   468.0 TL  \n",
       "3       manual  gasoline   Kutahya  2/14/2023   422.5 TL  \n",
       "4       manual  gasoline   Kutahya   2/1/2023   507.0 TL  "
      ]
     },
     "execution_count": 33,
     "metadata": {},
     "output_type": "execute_result"
    }
   ],
   "source": [
    "df = pd.read_csv('online_car_sales.csv')\n",
    "df.head()"
   ]
  },
  {
   "cell_type": "code",
   "execution_count": 34,
   "metadata": {},
   "outputs": [],
   "source": [
    "df1 = df[['year','price']]"
   ]
  },
  {
   "cell_type": "code",
   "execution_count": 35,
   "metadata": {},
   "outputs": [
    {
     "name": "stdout",
     "output_type": "stream",
     "text": [
      "<class 'pandas.core.frame.DataFrame'>\n",
      "RangeIndex: 7600 entries, 0 to 7599\n",
      "Data columns (total 2 columns):\n",
      " #   Column  Non-Null Count  Dtype \n",
      "---  ------  --------------  ----- \n",
      " 0   year    7600 non-null   int64 \n",
      " 1   price   7600 non-null   object\n",
      "dtypes: int64(1), object(1)\n",
      "memory usage: 118.9+ KB\n"
     ]
    }
   ],
   "source": [
    "df1.info()"
   ]
  },
  {
   "cell_type": "code",
   "execution_count": 36,
   "metadata": {},
   "outputs": [
    {
     "data": {
      "text/html": [
       "<div>\n",
       "<style scoped>\n",
       "    .dataframe tbody tr th:only-of-type {\n",
       "        vertical-align: middle;\n",
       "    }\n",
       "\n",
       "    .dataframe tbody tr th {\n",
       "        vertical-align: top;\n",
       "    }\n",
       "\n",
       "    .dataframe thead th {\n",
       "        text-align: right;\n",
       "    }\n",
       "</style>\n",
       "<table border=\"1\" class=\"dataframe\">\n",
       "  <thead>\n",
       "    <tr style=\"text-align: right;\">\n",
       "      <th></th>\n",
       "      <th>year</th>\n",
       "      <th>price</th>\n",
       "    </tr>\n",
       "  </thead>\n",
       "  <tbody>\n",
       "    <tr>\n",
       "      <th>0</th>\n",
       "      <td>2005</td>\n",
       "      <td>308.75 TL</td>\n",
       "    </tr>\n",
       "    <tr>\n",
       "      <th>1</th>\n",
       "      <td>2016</td>\n",
       "      <td>705.25 TL</td>\n",
       "    </tr>\n",
       "    <tr>\n",
       "      <th>2</th>\n",
       "      <td>2012</td>\n",
       "      <td>468.0 TL</td>\n",
       "    </tr>\n",
       "    <tr>\n",
       "      <th>3</th>\n",
       "      <td>2008</td>\n",
       "      <td>422.5 TL</td>\n",
       "    </tr>\n",
       "    <tr>\n",
       "      <th>4</th>\n",
       "      <td>2012</td>\n",
       "      <td>507.0 TL</td>\n",
       "    </tr>\n",
       "  </tbody>\n",
       "</table>\n",
       "</div>"
      ],
      "text/plain": [
       "   year      price\n",
       "0  2005  308.75 TL\n",
       "1  2016  705.25 TL\n",
       "2  2012   468.0 TL\n",
       "3  2008   422.5 TL\n",
       "4  2012   507.0 TL"
      ]
     },
     "execution_count": 36,
     "metadata": {},
     "output_type": "execute_result"
    }
   ],
   "source": [
    "df1.head()"
   ]
  },
  {
   "cell_type": "code",
   "execution_count": 37,
   "metadata": {},
   "outputs": [],
   "source": [
    "df1['price'] = df1['price'].str.replace(' TL', '', regex=False).astype(float)"
   ]
  },
  {
   "cell_type": "code",
   "execution_count": 38,
   "metadata": {},
   "outputs": [
    {
     "data": {
      "text/html": [
       "<div>\n",
       "<style scoped>\n",
       "    .dataframe tbody tr th:only-of-type {\n",
       "        vertical-align: middle;\n",
       "    }\n",
       "\n",
       "    .dataframe tbody tr th {\n",
       "        vertical-align: top;\n",
       "    }\n",
       "\n",
       "    .dataframe thead th {\n",
       "        text-align: right;\n",
       "    }\n",
       "</style>\n",
       "<table border=\"1\" class=\"dataframe\">\n",
       "  <thead>\n",
       "    <tr style=\"text-align: right;\">\n",
       "      <th></th>\n",
       "      <th>year</th>\n",
       "      <th>price</th>\n",
       "    </tr>\n",
       "  </thead>\n",
       "  <tbody>\n",
       "    <tr>\n",
       "      <th>0</th>\n",
       "      <td>2005</td>\n",
       "      <td>308.75</td>\n",
       "    </tr>\n",
       "    <tr>\n",
       "      <th>1</th>\n",
       "      <td>2016</td>\n",
       "      <td>705.25</td>\n",
       "    </tr>\n",
       "    <tr>\n",
       "      <th>2</th>\n",
       "      <td>2012</td>\n",
       "      <td>468.00</td>\n",
       "    </tr>\n",
       "    <tr>\n",
       "      <th>3</th>\n",
       "      <td>2008</td>\n",
       "      <td>422.50</td>\n",
       "    </tr>\n",
       "    <tr>\n",
       "      <th>4</th>\n",
       "      <td>2012</td>\n",
       "      <td>507.00</td>\n",
       "    </tr>\n",
       "  </tbody>\n",
       "</table>\n",
       "</div>"
      ],
      "text/plain": [
       "   year   price\n",
       "0  2005  308.75\n",
       "1  2016  705.25\n",
       "2  2012  468.00\n",
       "3  2008  422.50\n",
       "4  2012  507.00"
      ]
     },
     "execution_count": 38,
     "metadata": {},
     "output_type": "execute_result"
    }
   ],
   "source": [
    "df1.head()"
   ]
  },
  {
   "cell_type": "code",
   "execution_count": 39,
   "metadata": {},
   "outputs": [],
   "source": [
    "df_sorted = df1.sort_values(by='year')"
   ]
  },
  {
   "cell_type": "code",
   "execution_count": 40,
   "metadata": {},
   "outputs": [
    {
     "data": {
      "text/html": [
       "<div>\n",
       "<style scoped>\n",
       "    .dataframe tbody tr th:only-of-type {\n",
       "        vertical-align: middle;\n",
       "    }\n",
       "\n",
       "    .dataframe tbody tr th {\n",
       "        vertical-align: top;\n",
       "    }\n",
       "\n",
       "    .dataframe thead th {\n",
       "        text-align: right;\n",
       "    }\n",
       "</style>\n",
       "<table border=\"1\" class=\"dataframe\">\n",
       "  <thead>\n",
       "    <tr style=\"text-align: right;\">\n",
       "      <th></th>\n",
       "      <th>year</th>\n",
       "      <th>price</th>\n",
       "    </tr>\n",
       "  </thead>\n",
       "  <tbody>\n",
       "    <tr>\n",
       "      <th>7381</th>\n",
       "      <td>2019</td>\n",
       "      <td>1052.350</td>\n",
       "    </tr>\n",
       "    <tr>\n",
       "      <th>1137</th>\n",
       "      <td>2019</td>\n",
       "      <td>1426.750</td>\n",
       "    </tr>\n",
       "    <tr>\n",
       "      <th>6581</th>\n",
       "      <td>2019</td>\n",
       "      <td>1337.375</td>\n",
       "    </tr>\n",
       "    <tr>\n",
       "      <th>6944</th>\n",
       "      <td>2020</td>\n",
       "      <td>1556.750</td>\n",
       "    </tr>\n",
       "    <tr>\n",
       "      <th>6751</th>\n",
       "      <td>2020</td>\n",
       "      <td>1662.375</td>\n",
       "    </tr>\n",
       "  </tbody>\n",
       "</table>\n",
       "</div>"
      ],
      "text/plain": [
       "      year     price\n",
       "7381  2019  1052.350\n",
       "1137  2019  1426.750\n",
       "6581  2019  1337.375\n",
       "6944  2020  1556.750\n",
       "6751  2020  1662.375"
      ]
     },
     "execution_count": 40,
     "metadata": {},
     "output_type": "execute_result"
    }
   ],
   "source": [
    "df_sorted.tail()"
   ]
  },
  {
   "cell_type": "markdown",
   "metadata": {},
   "source": [
    "# EDA"
   ]
  },
  {
   "cell_type": "code",
   "execution_count": 41,
   "metadata": {},
   "outputs": [
    {
     "data": {
      "text/plain": [
       "(7600, 2)"
      ]
     },
     "execution_count": 41,
     "metadata": {},
     "output_type": "execute_result"
    }
   ],
   "source": [
    "df_sorted.shape"
   ]
  },
  {
   "cell_type": "code",
   "execution_count": 42,
   "metadata": {},
   "outputs": [
    {
     "name": "stdout",
     "output_type": "stream",
     "text": [
      "<class 'pandas.core.frame.DataFrame'>\n",
      "Index: 7600 entries, 2802 to 6751\n",
      "Data columns (total 2 columns):\n",
      " #   Column  Non-Null Count  Dtype  \n",
      "---  ------  --------------  -----  \n",
      " 0   year    7600 non-null   int64  \n",
      " 1   price   7600 non-null   float64\n",
      "dtypes: float64(1), int64(1)\n",
      "memory usage: 178.1 KB\n"
     ]
    }
   ],
   "source": [
    "df_sorted.info()"
   ]
  },
  {
   "cell_type": "code",
   "execution_count": 48,
   "metadata": {},
   "outputs": [],
   "source": [
    "# Menggunakan fungsi apply untuk mengubah setiap entri dalam kolom 'year'\n",
    "df_sorted['year'] = df_sorted['year'].apply(lambda x: datetime(year=x, month=1, day=1))"
   ]
  },
  {
   "cell_type": "code",
   "execution_count": 49,
   "metadata": {},
   "outputs": [
    {
     "data": {
      "text/html": [
       "<div>\n",
       "<style scoped>\n",
       "    .dataframe tbody tr th:only-of-type {\n",
       "        vertical-align: middle;\n",
       "    }\n",
       "\n",
       "    .dataframe tbody tr th {\n",
       "        vertical-align: top;\n",
       "    }\n",
       "\n",
       "    .dataframe thead th {\n",
       "        text-align: right;\n",
       "    }\n",
       "</style>\n",
       "<table border=\"1\" class=\"dataframe\">\n",
       "  <thead>\n",
       "    <tr style=\"text-align: right;\">\n",
       "      <th></th>\n",
       "      <th>year</th>\n",
       "      <th>price</th>\n",
       "    </tr>\n",
       "  </thead>\n",
       "  <tbody>\n",
       "    <tr>\n",
       "      <th>2802</th>\n",
       "      <td>1974-01-01</td>\n",
       "      <td>143.000</td>\n",
       "    </tr>\n",
       "    <tr>\n",
       "      <th>487</th>\n",
       "      <td>1974-01-01</td>\n",
       "      <td>175.500</td>\n",
       "    </tr>\n",
       "    <tr>\n",
       "      <th>437</th>\n",
       "      <td>1974-01-01</td>\n",
       "      <td>139.750</td>\n",
       "    </tr>\n",
       "    <tr>\n",
       "      <th>840</th>\n",
       "      <td>1974-01-01</td>\n",
       "      <td>169.000</td>\n",
       "    </tr>\n",
       "    <tr>\n",
       "      <th>25</th>\n",
       "      <td>1974-01-01</td>\n",
       "      <td>243.750</td>\n",
       "    </tr>\n",
       "    <tr>\n",
       "      <th>...</th>\n",
       "      <td>...</td>\n",
       "      <td>...</td>\n",
       "    </tr>\n",
       "    <tr>\n",
       "      <th>7381</th>\n",
       "      <td>2019-01-01</td>\n",
       "      <td>1052.350</td>\n",
       "    </tr>\n",
       "    <tr>\n",
       "      <th>1137</th>\n",
       "      <td>2019-01-01</td>\n",
       "      <td>1426.750</td>\n",
       "    </tr>\n",
       "    <tr>\n",
       "      <th>6581</th>\n",
       "      <td>2019-01-01</td>\n",
       "      <td>1337.375</td>\n",
       "    </tr>\n",
       "    <tr>\n",
       "      <th>6944</th>\n",
       "      <td>2020-01-01</td>\n",
       "      <td>1556.750</td>\n",
       "    </tr>\n",
       "    <tr>\n",
       "      <th>6751</th>\n",
       "      <td>2020-01-01</td>\n",
       "      <td>1662.375</td>\n",
       "    </tr>\n",
       "  </tbody>\n",
       "</table>\n",
       "<p>7600 rows × 2 columns</p>\n",
       "</div>"
      ],
      "text/plain": [
       "           year     price\n",
       "2802 1974-01-01   143.000\n",
       "487  1974-01-01   175.500\n",
       "437  1974-01-01   139.750\n",
       "840  1974-01-01   169.000\n",
       "25   1974-01-01   243.750\n",
       "...         ...       ...\n",
       "7381 2019-01-01  1052.350\n",
       "1137 2019-01-01  1426.750\n",
       "6581 2019-01-01  1337.375\n",
       "6944 2020-01-01  1556.750\n",
       "6751 2020-01-01  1662.375\n",
       "\n",
       "[7600 rows x 2 columns]"
      ]
     },
     "execution_count": 49,
     "metadata": {},
     "output_type": "execute_result"
    }
   ],
   "source": [
    "df_sorted"
   ]
  },
  {
   "cell_type": "code",
   "execution_count": 50,
   "metadata": {},
   "outputs": [
    {
     "data": {
      "text/plain": [
       "Text(0, 0.5, 'Num of Values')"
      ]
     },
     "execution_count": 50,
     "metadata": {},
     "output_type": "execute_result"
    },
    {
     "data": {
      "image/png": "[encoded data removed]",
      "text/plain": [
       "<Figure size 640x480 with 1 Axes>"
      ]
     },
     "metadata": {},
     "output_type": "display_data"
    }
   ],
   "source": [
    "# Plot the data\n",
    "\n",
    "df_sorted.columns = ['year', 'price']\n",
    "df_sorted.year = pd.to_datetime(df_sorted.year)\n",
    "df_sorted.set_index('year',inplace=True)\n",
    "df_sorted.plot()\n",
    "plt.xlabel('year')\n",
    "plt.ylabel('Num of Values')"
   ]
  },
  {
   "cell_type": "code",
   "execution_count": 51,
   "metadata": {},
   "outputs": [
    {
     "data": {
      "text/html": [
       "<div>\n",
       "<style scoped>\n",
       "    .dataframe tbody tr th:only-of-type {\n",
       "        vertical-align: middle;\n",
       "    }\n",
       "\n",
       "    .dataframe tbody tr th {\n",
       "        vertical-align: top;\n",
       "    }\n",
       "\n",
       "    .dataframe thead th {\n",
       "        text-align: right;\n",
       "    }\n",
       "</style>\n",
       "<table border=\"1\" class=\"dataframe\">\n",
       "  <thead>\n",
       "    <tr style=\"text-align: right;\">\n",
       "      <th></th>\n",
       "      <th>price</th>\n",
       "    </tr>\n",
       "    <tr>\n",
       "      <th>year</th>\n",
       "      <th></th>\n",
       "    </tr>\n",
       "  </thead>\n",
       "  <tbody>\n",
       "    <tr>\n",
       "      <th>1974-01-01</th>\n",
       "      <td>143.000</td>\n",
       "    </tr>\n",
       "    <tr>\n",
       "      <th>1974-01-01</th>\n",
       "      <td>175.500</td>\n",
       "    </tr>\n",
       "    <tr>\n",
       "      <th>1974-01-01</th>\n",
       "      <td>139.750</td>\n",
       "    </tr>\n",
       "    <tr>\n",
       "      <th>1974-01-01</th>\n",
       "      <td>169.000</td>\n",
       "    </tr>\n",
       "    <tr>\n",
       "      <th>1974-01-01</th>\n",
       "      <td>243.750</td>\n",
       "    </tr>\n",
       "    <tr>\n",
       "      <th>...</th>\n",
       "      <td>...</td>\n",
       "    </tr>\n",
       "    <tr>\n",
       "      <th>2019-01-01</th>\n",
       "      <td>1052.350</td>\n",
       "    </tr>\n",
       "    <tr>\n",
       "      <th>2019-01-01</th>\n",
       "      <td>1426.750</td>\n",
       "    </tr>\n",
       "    <tr>\n",
       "      <th>2019-01-01</th>\n",
       "      <td>1337.375</td>\n",
       "    </tr>\n",
       "    <tr>\n",
       "      <th>2020-01-01</th>\n",
       "      <td>1556.750</td>\n",
       "    </tr>\n",
       "    <tr>\n",
       "      <th>2020-01-01</th>\n",
       "      <td>1662.375</td>\n",
       "    </tr>\n",
       "  </tbody>\n",
       "</table>\n",
       "<p>7600 rows × 1 columns</p>\n",
       "</div>"
      ],
      "text/plain": [
       "               price\n",
       "year                \n",
       "1974-01-01   143.000\n",
       "1974-01-01   175.500\n",
       "1974-01-01   139.750\n",
       "1974-01-01   169.000\n",
       "1974-01-01   243.750\n",
       "...              ...\n",
       "2019-01-01  1052.350\n",
       "2019-01-01  1426.750\n",
       "2019-01-01  1337.375\n",
       "2020-01-01  1556.750\n",
       "2020-01-01  1662.375\n",
       "\n",
       "[7600 rows x 1 columns]"
      ]
     },
     "execution_count": 51,
     "metadata": {},
     "output_type": "execute_result"
    }
   ],
   "source": [
    "df_sorted"
   ]
  },
  {
   "cell_type": "markdown",
   "metadata": {},
   "source": [
    "# Check Stationarity"
   ]
  },
  {
   "cell_type": "code",
   "execution_count": 53,
   "metadata": {},
   "outputs": [
    {
     "data": {
      "text/plain": [
       "[<matplotlib.lines.Line2D at 0x1e8b60e7580>]"
      ]
     },
     "execution_count": 53,
     "metadata": {},
     "output_type": "execute_result"
    },
    {
     "data": {
      "image/png": "[encoded data removed]",
      "text/plain": [
       "<Figure size 1500x500 with 2 Axes>"
      ]
     },
     "metadata": {},
     "output_type": "display_data"
    }
   ],
   "source": [
    "# Plot without differencing\n",
    "\n",
    "fig, ax = plt.subplots(figsize=(15,5))\n",
    "ax1 = fig.add_subplot(111)\n",
    "ax1.set_title('without differencing')\n",
    "ax1.plot(df_sorted['price'])"
   ]
  },
  {
   "cell_type": "code",
   "execution_count": 54,
   "metadata": {},
   "outputs": [],
   "source": [
    "# Create a function to check stationarity\n",
    "\n",
    "def check_stationarity(series):\n",
    "    # Copied from https://machinelearningmastery.com/time-series-data-stationary-python/\n",
    "\n",
    "    result = adfuller(series.values)\n",
    "\n",
    "    print('ADF Statistic: %f' % result[0])\n",
    "    print('p-value: %f' % result[1])\n",
    "    print('Critical Values:')\n",
    "    for key, value in result[4].items():\n",
    "        print('\\t%s: %.3f' % (key, value))\n",
    "\n",
    "    if (result[1] <= 0.05) & (result[4]['5%'] > result[0]):\n",
    "        print(\"\\u001b[32mStationary\\u001b[0m\")\n",
    "    else:\n",
    "        print(\"\\x1b[31mNon-stationary\\x1b[0m\")"
   ]
  },
  {
   "cell_type": "code",
   "execution_count": 55,
   "metadata": {},
   "outputs": [
    {
     "name": "stdout",
     "output_type": "stream",
     "text": [
      "ADF Statistic: -1.020592\n",
      "p-value: 0.745680\n",
      "Critical Values:\n",
      "\t1%: -3.431\n",
      "\t5%: -2.862\n",
      "\t10%: -2.567\n",
      "\u001b[31mNon-stationary\u001b[0m\n"
     ]
    }
   ],
   "source": [
    "# Check stationarity of the dataset\n",
    "\n",
    "check_stationarity(df_sorted['price'])"
   ]
  },
  {
   "cell_type": "code",
   "execution_count": 56,
   "metadata": {},
   "outputs": [
    {
     "name": "stdout",
     "output_type": "stream",
     "text": [
      "ADF Statistic: -32.253659\n",
      "p-value: 0.000000\n",
      "Critical Values:\n",
      "\t1%: -3.431\n",
      "\t5%: -2.862\n",
      "\t10%: -2.567\n",
      "\u001b[32mStationary\u001b[0m\n"
     ]
    }
   ],
   "source": [
    "# Check stationarity of the dataset\n",
    "\n",
    "check_stationarity(df_sorted['price'].diff().diff().dropna())"
   ]
  },
  {
   "cell_type": "code",
   "execution_count": 59,
   "metadata": {},
   "outputs": [
    {
     "data": {
      "text/html": [
       "<div>\n",
       "<style scoped>\n",
       "    .dataframe tbody tr th:only-of-type {\n",
       "        vertical-align: middle;\n",
       "    }\n",
       "\n",
       "    .dataframe tbody tr th {\n",
       "        vertical-align: top;\n",
       "    }\n",
       "\n",
       "    .dataframe thead th {\n",
       "        text-align: right;\n",
       "    }\n",
       "</style>\n",
       "<table border=\"1\" class=\"dataframe\">\n",
       "  <thead>\n",
       "    <tr style=\"text-align: right;\">\n",
       "      <th></th>\n",
       "      <th>price</th>\n",
       "    </tr>\n",
       "    <tr>\n",
       "      <th>year</th>\n",
       "      <th></th>\n",
       "    </tr>\n",
       "  </thead>\n",
       "  <tbody>\n",
       "    <tr>\n",
       "      <th>1974-01-01</th>\n",
       "      <td>143.000</td>\n",
       "    </tr>\n",
       "    <tr>\n",
       "      <th>1974-01-01</th>\n",
       "      <td>175.500</td>\n",
       "    </tr>\n",
       "    <tr>\n",
       "      <th>1974-01-01</th>\n",
       "      <td>139.750</td>\n",
       "    </tr>\n",
       "    <tr>\n",
       "      <th>1974-01-01</th>\n",
       "      <td>169.000</td>\n",
       "    </tr>\n",
       "    <tr>\n",
       "      <th>1974-01-01</th>\n",
       "      <td>243.750</td>\n",
       "    </tr>\n",
       "    <tr>\n",
       "      <th>...</th>\n",
       "      <td>...</td>\n",
       "    </tr>\n",
       "    <tr>\n",
       "      <th>2019-01-01</th>\n",
       "      <td>1052.350</td>\n",
       "    </tr>\n",
       "    <tr>\n",
       "      <th>2019-01-01</th>\n",
       "      <td>1426.750</td>\n",
       "    </tr>\n",
       "    <tr>\n",
       "      <th>2019-01-01</th>\n",
       "      <td>1337.375</td>\n",
       "    </tr>\n",
       "    <tr>\n",
       "      <th>2020-01-01</th>\n",
       "      <td>1556.750</td>\n",
       "    </tr>\n",
       "    <tr>\n",
       "      <th>2020-01-01</th>\n",
       "      <td>1662.375</td>\n",
       "    </tr>\n",
       "  </tbody>\n",
       "</table>\n",
       "<p>7600 rows × 1 columns</p>\n",
       "</div>"
      ],
      "text/plain": [
       "               price\n",
       "year                \n",
       "1974-01-01   143.000\n",
       "1974-01-01   175.500\n",
       "1974-01-01   139.750\n",
       "1974-01-01   169.000\n",
       "1974-01-01   243.750\n",
       "...              ...\n",
       "2019-01-01  1052.350\n",
       "2019-01-01  1426.750\n",
       "2019-01-01  1337.375\n",
       "2020-01-01  1556.750\n",
       "2020-01-01  1662.375\n",
       "\n",
       "[7600 rows x 1 columns]"
      ]
     },
     "execution_count": 59,
     "metadata": {},
     "output_type": "execute_result"
    }
   ],
   "source": [
    "df_sorted"
   ]
  },
  {
   "cell_type": "markdown",
   "metadata": {},
   "source": [
    "# Modeling"
   ]
  },
  {
   "cell_type": "code",
   "execution_count": 63,
   "metadata": {},
   "outputs": [
    {
     "name": "stdout",
     "output_type": "stream",
     "text": [
      "Train size :  (4000, 1)\n",
      "Test size :  (3600, 1)\n"
     ]
    }
   ],
   "source": [
    "# Splitting dataset\n",
    "\n",
    "train = df_sorted[:4000]\n",
    "test = df_sorted[4000:]\n",
    "\n",
    "print('Train size : ', train.shape)\n",
    "print('Test size : ', test.shape)"
   ]
  },
  {
   "cell_type": "code",
   "execution_count": 64,
   "metadata": {},
   "outputs": [
    {
     "data": {
      "text/html": [
       "<div>\n",
       "<style scoped>\n",
       "    .dataframe tbody tr th:only-of-type {\n",
       "        vertical-align: middle;\n",
       "    }\n",
       "\n",
       "    .dataframe tbody tr th {\n",
       "        vertical-align: top;\n",
       "    }\n",
       "\n",
       "    .dataframe thead th {\n",
       "        text-align: right;\n",
       "    }\n",
       "</style>\n",
       "<table border=\"1\" class=\"dataframe\">\n",
       "  <thead>\n",
       "    <tr style=\"text-align: right;\">\n",
       "      <th></th>\n",
       "      <th>price</th>\n",
       "    </tr>\n",
       "    <tr>\n",
       "      <th>year</th>\n",
       "      <th></th>\n",
       "    </tr>\n",
       "  </thead>\n",
       "  <tbody>\n",
       "    <tr>\n",
       "      <th>1974-01-01</th>\n",
       "      <td>143.00</td>\n",
       "    </tr>\n",
       "    <tr>\n",
       "      <th>1974-01-01</th>\n",
       "      <td>175.50</td>\n",
       "    </tr>\n",
       "    <tr>\n",
       "      <th>1974-01-01</th>\n",
       "      <td>139.75</td>\n",
       "    </tr>\n",
       "    <tr>\n",
       "      <th>1974-01-01</th>\n",
       "      <td>169.00</td>\n",
       "    </tr>\n",
       "    <tr>\n",
       "      <th>1974-01-01</th>\n",
       "      <td>243.75</td>\n",
       "    </tr>\n",
       "    <tr>\n",
       "      <th>...</th>\n",
       "      <td>...</td>\n",
       "    </tr>\n",
       "    <tr>\n",
       "      <th>2012-01-01</th>\n",
       "      <td>707.85</td>\n",
       "    </tr>\n",
       "    <tr>\n",
       "      <th>2012-01-01</th>\n",
       "      <td>507.00</td>\n",
       "    </tr>\n",
       "    <tr>\n",
       "      <th>2012-01-01</th>\n",
       "      <td>715.00</td>\n",
       "    </tr>\n",
       "    <tr>\n",
       "      <th>2012-01-01</th>\n",
       "      <td>799.50</td>\n",
       "    </tr>\n",
       "    <tr>\n",
       "      <th>2012-01-01</th>\n",
       "      <td>533.00</td>\n",
       "    </tr>\n",
       "  </tbody>\n",
       "</table>\n",
       "<p>4000 rows × 1 columns</p>\n",
       "</div>"
      ],
      "text/plain": [
       "             price\n",
       "year              \n",
       "1974-01-01  143.00\n",
       "1974-01-01  175.50\n",
       "1974-01-01  139.75\n",
       "1974-01-01  169.00\n",
       "1974-01-01  243.75\n",
       "...            ...\n",
       "2012-01-01  707.85\n",
       "2012-01-01  507.00\n",
       "2012-01-01  715.00\n",
       "2012-01-01  799.50\n",
       "2012-01-01  533.00\n",
       "\n",
       "[4000 rows x 1 columns]"
      ]
     },
     "execution_count": 64,
     "metadata": {},
     "output_type": "execute_result"
    }
   ],
   "source": [
    "train = train.dropna()\n",
    "train"
   ]
  },
  {
   "cell_type": "code",
   "execution_count": 65,
   "metadata": {},
   "outputs": [
    {
     "data": {
      "text/html": [
       "<div>\n",
       "<style scoped>\n",
       "    .dataframe tbody tr th:only-of-type {\n",
       "        vertical-align: middle;\n",
       "    }\n",
       "\n",
       "    .dataframe tbody tr th {\n",
       "        vertical-align: top;\n",
       "    }\n",
       "\n",
       "    .dataframe thead th {\n",
       "        text-align: right;\n",
       "    }\n",
       "</style>\n",
       "<table border=\"1\" class=\"dataframe\">\n",
       "  <thead>\n",
       "    <tr style=\"text-align: right;\">\n",
       "      <th></th>\n",
       "      <th>price</th>\n",
       "    </tr>\n",
       "    <tr>\n",
       "      <th>year</th>\n",
       "      <th></th>\n",
       "    </tr>\n",
       "  </thead>\n",
       "  <tbody>\n",
       "    <tr>\n",
       "      <th>2012-01-01</th>\n",
       "      <td>395.850</td>\n",
       "    </tr>\n",
       "    <tr>\n",
       "      <th>2012-01-01</th>\n",
       "      <td>532.350</td>\n",
       "    </tr>\n",
       "    <tr>\n",
       "      <th>2012-01-01</th>\n",
       "      <td>624.000</td>\n",
       "    </tr>\n",
       "    <tr>\n",
       "      <th>2012-01-01</th>\n",
       "      <td>562.250</td>\n",
       "    </tr>\n",
       "    <tr>\n",
       "      <th>2012-01-01</th>\n",
       "      <td>576.875</td>\n",
       "    </tr>\n",
       "    <tr>\n",
       "      <th>...</th>\n",
       "      <td>...</td>\n",
       "    </tr>\n",
       "    <tr>\n",
       "      <th>2019-01-01</th>\n",
       "      <td>1052.350</td>\n",
       "    </tr>\n",
       "    <tr>\n",
       "      <th>2019-01-01</th>\n",
       "      <td>1426.750</td>\n",
       "    </tr>\n",
       "    <tr>\n",
       "      <th>2019-01-01</th>\n",
       "      <td>1337.375</td>\n",
       "    </tr>\n",
       "    <tr>\n",
       "      <th>2020-01-01</th>\n",
       "      <td>1556.750</td>\n",
       "    </tr>\n",
       "    <tr>\n",
       "      <th>2020-01-01</th>\n",
       "      <td>1662.375</td>\n",
       "    </tr>\n",
       "  </tbody>\n",
       "</table>\n",
       "<p>3600 rows × 1 columns</p>\n",
       "</div>"
      ],
      "text/plain": [
       "               price\n",
       "year                \n",
       "2012-01-01   395.850\n",
       "2012-01-01   532.350\n",
       "2012-01-01   624.000\n",
       "2012-01-01   562.250\n",
       "2012-01-01   576.875\n",
       "...              ...\n",
       "2019-01-01  1052.350\n",
       "2019-01-01  1426.750\n",
       "2019-01-01  1337.375\n",
       "2020-01-01  1556.750\n",
       "2020-01-01  1662.375\n",
       "\n",
       "[3600 rows x 1 columns]"
      ]
     },
     "execution_count": 65,
     "metadata": {},
     "output_type": "execute_result"
    }
   ],
   "source": [
    "test"
   ]
  },
  {
   "cell_type": "code",
   "execution_count": 72,
   "metadata": {},
   "outputs": [
    {
     "name": "stdout",
     "output_type": "stream",
     "text": [
      "ADF Statistic: -3.168458\n",
      "p-value: 0.021885\n",
      "Critical Values:\n",
      "\t1%: -3.432\n",
      "\t5%: -2.862\n",
      "\t10%: -2.567\n",
      "\u001b[32mStationary\u001b[0m\n"
     ]
    }
   ],
   "source": [
    "# Stationarity check\n",
    "\n",
    "check_stationarity(train['price'])"
   ]
  },
  {
   "cell_type": "markdown",
   "metadata": {},
   "source": [
    "# **Naive Approach**"
   ]
  },
  {
   "cell_type": "code",
   "execution_count": 67,
   "metadata": {},
   "outputs": [
    {
     "data": {
      "image/png": "[encoded data removed]",
      "text/plain": [
       "<Figure size 2000x800 with 1 Axes>"
      ]
     },
     "metadata": {},
     "output_type": "display_data"
    }
   ],
   "source": [
    "dd= np.asarray(train.price)\n",
    "y_hat = test.copy()\n",
    "y_hat['naive'] = dd[len(dd)-1]\n",
    "plt.figure(figsize=(20,8))\n",
    "plt.plot(train.index, train['price'], label='Train')\n",
    "plt.plot(test.index,test['price'], label='Test')\n",
    "plt.plot(y_hat.index,y_hat['naive'], label='Naive Forecast')\n",
    "plt.legend(loc='best')\n",
    "plt.title(\"Naive Forecast\")\n",
    "plt.show()"
   ]
  },
  {
   "cell_type": "code",
   "execution_count": 69,
   "metadata": {},
   "outputs": [
    {
     "name": "stdout",
     "output_type": "stream",
     "text": [
      "mae : 326.7908563888889\n",
      "rmse : 442.57348958039836\n"
     ]
    }
   ],
   "source": [
    "from sklearn.metrics import mean_squared_error, mean_absolute_error\n",
    "from math import sqrt\n",
    "rmse = sqrt(mean_squared_error(test.price, y_hat.naive))\n",
    "mae = mean_absolute_error(test.price, y_hat.naive)\n",
    "\n",
    "print(\"mae :\",mae)\n",
    "print(\"rmse :\",rmse)"
   ]
  },
  {
   "cell_type": "markdown",
   "metadata": {},
   "source": [
    "# **Simple Average**"
   ]
  },
  {
   "cell_type": "code",
   "execution_count": 73,
   "metadata": {},
   "outputs": [
    {
     "data": {
      "image/png": "[encoded data removed]",
      "text/plain": [
       "<Figure size 2000x800 with 1 Axes>"
      ]
     },
     "metadata": {},
     "output_type": "display_data"
    }
   ],
   "source": [
    "y_hat_avg = test.copy()\n",
    "y_hat_avg['avg_forecast'] = train['price'].mean()\n",
    "plt.figure(figsize=(20,8))\n",
    "plt.plot(train['price'], label='Train')\n",
    "plt.plot(test['price'], label='Test')\n",
    "plt.plot(y_hat_avg['avg_forecast'], label='Average Forecast')\n",
    "plt.legend(loc='best')\n",
    "plt.show()"
   ]
  },
  {
   "cell_type": "code",
   "execution_count": 74,
   "metadata": {},
   "outputs": [
    {
     "name": "stdout",
     "output_type": "stream",
     "text": [
      "mae : 486.9242557423611\n",
      "rmse : 583.1439133067804\n"
     ]
    }
   ],
   "source": [
    "print(\"mae :\", mean_absolute_error(test.price, y_hat_avg.avg_forecast))\n",
    "print(\"rmse :\", sqrt(mean_squared_error(test.price, y_hat_avg.avg_forecast)))"
   ]
  },
  {
   "cell_type": "markdown",
   "metadata": {},
   "source": [
    "# **Moving Average**"
   ]
  },
  {
   "cell_type": "code",
   "execution_count": 75,
   "metadata": {},
   "outputs": [
    {
     "data": {
      "image/png": "[encoded data removed]",
      "text/plain": [
       "<Figure size 2000x800 with 1 Axes>"
      ]
     },
     "metadata": {},
     "output_type": "display_data"
    }
   ],
   "source": [
    "y_hat_avg = test.copy()\n",
    "y_hat_avg['moving_avg_forecast'] = train['price'].rolling(12).mean().iloc[-1]\n",
    "plt.figure(figsize=(20,8))\n",
    "plt.plot(train['price'], label='Train')\n",
    "plt.plot(test['price'], label='Test')\n",
    "plt.plot(y_hat_avg['moving_avg_forecast'], label='Moving Average Forecast')\n",
    "plt.legend(loc='best')\n",
    "plt.show()"
   ]
  },
  {
   "cell_type": "code",
   "execution_count": 76,
   "metadata": {},
   "outputs": [
    {
     "name": "stdout",
     "output_type": "stream",
     "text": [
      "mae : 278.0409255555556\n",
      "rmse : 394.10966546433247\n"
     ]
    }
   ],
   "source": [
    "print(\"mae :\", mean_absolute_error(test.price, y_hat_avg.moving_avg_forecast))\n",
    "print(\"rmse :\", sqrt(mean_squared_error(test.price, y_hat_avg.moving_avg_forecast)))"
   ]
  },
  {
   "cell_type": "markdown",
   "metadata": {},
   "source": [
    "# **SES**"
   ]
  },
  {
   "cell_type": "code",
   "execution_count": 77,
   "metadata": {},
   "outputs": [
    {
     "data": {
      "image/png": "[encoded data removed]",
      "text/plain": [
       "<Figure size 2000x800 with 1 Axes>"
      ]
     },
     "metadata": {},
     "output_type": "display_data"
    }
   ],
   "source": [
    "from statsmodels.tsa.api import ExponentialSmoothing, SimpleExpSmoothing, Holt\n",
    "y_hat_avg = test.copy()\n",
    "fit2 = SimpleExpSmoothing(np.asarray(train['price'])).fit(smoothing_level=0.6,optimized=False)\n",
    "y_hat_avg['SES'] = fit2.forecast(len(test))\n",
    "plt.figure(figsize=(20,8))\n",
    "plt.plot(train['price'], label='Train')\n",
    "plt.plot(test['price'], label='Test')\n",
    "plt.plot(y_hat_avg['SES'], label='SES')\n",
    "plt.legend(loc='best')\n",
    "plt.show()"
   ]
  },
  {
   "cell_type": "code",
   "execution_count": 78,
   "metadata": {},
   "outputs": [
    {
     "name": "stdout",
     "output_type": "stream",
     "text": [
      "mae : 273.7902615707576\n",
      "rmse : 389.49708594378745\n"
     ]
    }
   ],
   "source": [
    "print(\"mae :\", mean_absolute_error(test.price, y_hat_avg.SES))\n",
    "print(\"rmse :\", sqrt(mean_squared_error(test.price, y_hat_avg.SES)))"
   ]
  },
  {
   "cell_type": "code",
   "execution_count": 85,
   "metadata": {},
   "outputs": [
    {
     "data": {
      "text/plain": [
       "(7600, 16)"
      ]
     },
     "execution_count": 85,
     "metadata": {},
     "output_type": "execute_result"
    }
   ],
   "source": [
    "df.shape"
   ]
  },
  {
   "cell_type": "code",
   "execution_count": 86,
   "metadata": {},
   "outputs": [
    {
     "data": {
      "text/plain": [
       "0.03592105263157895"
      ]
     },
     "execution_count": 86,
     "metadata": {},
     "output_type": "execute_result"
    }
   ],
   "source": [
    "273/7600"
   ]
  },
  {
   "cell_type": "markdown",
   "metadata": {},
   "source": [
    "Error  = 4%"
   ]
  },
  {
   "cell_type": "code",
   "execution_count": 88,
   "metadata": {},
   "outputs": [
    {
     "data": {
      "text/plain": [
       "<statsmodels.tsa.holtwinters.results.HoltWintersResultsWrapper at 0x1e8b6774400>"
      ]
     },
     "execution_count": 88,
     "metadata": {},
     "output_type": "execute_result"
    }
   ],
   "source": [
    "fit2"
   ]
  },
  {
   "cell_type": "code",
   "execution_count": 89,
   "metadata": {},
   "outputs": [
    {
     "data": {
      "text/html": [
       "<div>\n",
       "<style scoped>\n",
       "    .dataframe tbody tr th:only-of-type {\n",
       "        vertical-align: middle;\n",
       "    }\n",
       "\n",
       "    .dataframe tbody tr th {\n",
       "        vertical-align: top;\n",
       "    }\n",
       "\n",
       "    .dataframe thead th {\n",
       "        text-align: right;\n",
       "    }\n",
       "</style>\n",
       "<table border=\"1\" class=\"dataframe\">\n",
       "  <thead>\n",
       "    <tr style=\"text-align: right;\">\n",
       "      <th></th>\n",
       "      <th>price</th>\n",
       "    </tr>\n",
       "    <tr>\n",
       "      <th>year</th>\n",
       "      <th></th>\n",
       "    </tr>\n",
       "  </thead>\n",
       "  <tbody>\n",
       "    <tr>\n",
       "      <th>2012-01-01</th>\n",
       "      <td>395.850</td>\n",
       "    </tr>\n",
       "    <tr>\n",
       "      <th>2012-01-01</th>\n",
       "      <td>532.350</td>\n",
       "    </tr>\n",
       "    <tr>\n",
       "      <th>2012-01-01</th>\n",
       "      <td>624.000</td>\n",
       "    </tr>\n",
       "    <tr>\n",
       "      <th>2012-01-01</th>\n",
       "      <td>562.250</td>\n",
       "    </tr>\n",
       "    <tr>\n",
       "      <th>2012-01-01</th>\n",
       "      <td>576.875</td>\n",
       "    </tr>\n",
       "    <tr>\n",
       "      <th>...</th>\n",
       "      <td>...</td>\n",
       "    </tr>\n",
       "    <tr>\n",
       "      <th>2019-01-01</th>\n",
       "      <td>1052.350</td>\n",
       "    </tr>\n",
       "    <tr>\n",
       "      <th>2019-01-01</th>\n",
       "      <td>1426.750</td>\n",
       "    </tr>\n",
       "    <tr>\n",
       "      <th>2019-01-01</th>\n",
       "      <td>1337.375</td>\n",
       "    </tr>\n",
       "    <tr>\n",
       "      <th>2020-01-01</th>\n",
       "      <td>1556.750</td>\n",
       "    </tr>\n",
       "    <tr>\n",
       "      <th>2020-01-01</th>\n",
       "      <td>1662.375</td>\n",
       "    </tr>\n",
       "  </tbody>\n",
       "</table>\n",
       "<p>3600 rows × 1 columns</p>\n",
       "</div>"
      ],
      "text/plain": [
       "               price\n",
       "year                \n",
       "2012-01-01   395.850\n",
       "2012-01-01   532.350\n",
       "2012-01-01   624.000\n",
       "2012-01-01   562.250\n",
       "2012-01-01   576.875\n",
       "...              ...\n",
       "2019-01-01  1052.350\n",
       "2019-01-01  1426.750\n",
       "2019-01-01  1337.375\n",
       "2020-01-01  1556.750\n",
       "2020-01-01  1662.375\n",
       "\n",
       "[3600 rows x 1 columns]"
      ]
     },
     "execution_count": 89,
     "metadata": {},
     "output_type": "execute_result"
    }
   ],
   "source": [
    "test"
   ]
  },
  {
   "cell_type": "markdown",
   "metadata": {},
   "source": [
    "# Check plot ACF & PACF"
   ]
  },
  {
   "cell_type": "code",
   "execution_count": 79,
   "metadata": {},
   "outputs": [
    {
     "data": {
      "image/png": "[encoded data removed]",
      "text/plain": [
       "<Figure size 640x480 with 1 Axes>"
      ]
     },
     "metadata": {},
     "output_type": "display_data"
    },
    {
     "data": {
      "image/png": "[encoded data removed]",
      "text/plain": [
       "<Figure size 640x480 with 1 Axes>"
      ]
     },
     "metadata": {},
     "output_type": "display_data"
    }
   ],
   "source": [
    "# Check plot ACF & PACF\n",
    "\n",
    "plot_acf(train['price'].diff().diff().dropna())\n",
    "plot_pacf(train['price'].diff().diff().dropna())\n",
    "plt.show()"
   ]
  },
  {
   "cell_type": "code",
   "execution_count": 80,
   "metadata": {},
   "outputs": [],
   "source": [
    "# Create a function to find best model\n",
    "\n",
    "def find_best_model(data, num_p, num_d, num_q):\n",
    "  df = pd.DataFrame() #We make a pandas dataframe to ease our work, you can use any way that makes you comfortable and work easly\n",
    "  pdq = [[],[],[]] #This list for storing the combinations of p and q\n",
    "  aic = [] # This list for storing aic value\n",
    "  for p in range(num_p + 1): #plus one is to make the range up to num_p since python range only ranging from 0 to N-1\n",
    "    for d in range(num_d + 1):\n",
    "      for q in range(num_q + 1):\n",
    "        # #if p!=0 and q!=0: #this logic will avoid (0,0) value which is not correct\n",
    "        try: #Using exception to avoid the error while training the model with certain p and q value\n",
    "          model = ARIMA(data, order=(p, d, q))\n",
    "          result = model.fit()\n",
    "          pdq[0].append(p)\n",
    "          pdq[1].append(d)\n",
    "          pdq[2].append(q)\n",
    "          aic.append(result.aic)\n",
    "        except:\n",
    "          pass #If there is an error caused by the calculation, it will be skipped to the next iteration\n",
    "\n",
    "  df['p'] = pdq[0]\n",
    "  df['d'] = pdq[1]\n",
    "  df['q'] = pdq[2]\n",
    "  df['AIC'] = aic\n",
    "\n",
    "  df.sort_values('AIC', inplace=True)\n",
    "\n",
    "  return df.p.iloc[0], df.d.iloc[0], df.q.iloc[0], df.AIC.iloc[0], df"
   ]
  },
  {
   "cell_type": "code",
   "execution_count": 81,
   "metadata": {},
   "outputs": [
    {
     "data": {
      "text/plain": [
       "(0,\n",
       " 4,\n",
       " 4,\n",
       " 6625.568895267221,\n",
       "     p  d  q           AIC\n",
       " 24  0  4  4   6625.568895\n",
       " 82  3  1  2  51021.687442\n",
       " 32  1  1  2  51023.846749\n",
       " 33  1  1  3  51025.006293\n",
       " 57  2  1  2  51025.086463\n",
       " .. .. .. ..           ...\n",
       " 70  2  4  0  61023.017884\n",
       " 21  0  4  1  62373.031441\n",
       " 15  0  3  0  62378.454621\n",
       " 45  1  4  0  63335.791660\n",
       " 20  0  4  0  67355.213788\n",
       " \n",
       " [125 rows x 4 columns])"
      ]
     },
     "execution_count": 81,
     "metadata": {},
     "output_type": "execute_result"
    }
   ],
   "source": [
    "# Find best model of ARIMA with combinations of p=4, d=4, q=4\n",
    "find_best_model(train['price'], 4, 4, 4)"
   ]
  },
  {
   "cell_type": "code",
   "execution_count": 83,
   "metadata": {},
   "outputs": [
    {
     "name": "stdout",
     "output_type": "stream",
     "text": [
      "The AIC is  6625.568895267221\n"
     ]
    }
   ],
   "source": [
    "# Train ARIMA with best combinations\n",
    "\n",
    "model_arima_234 = ARIMA(train['price'], order=(0, 4, 4))\n",
    "result_model_arima_234 = model_arima_234.fit()\n",
    "print('The AIC is ', result_model_arima_234.aic)"
   ]
  },
  {
   "cell_type": "code",
   "execution_count": 84,
   "metadata": {},
   "outputs": [
    {
     "name": "stdout",
     "output_type": "stream",
     "text": [
      "The MAE is 41766450.98631676\n",
      "The RMSE is 47459476.76972607\n"
     ]
    }
   ],
   "source": [
    "from sklearn.metrics import mean_absolute_error, mean_squared_error\n",
    "from math import sqrt\n",
    "import numpy as np\n",
    "\n",
    "# Assuming 'test' is your test dataset and it has a column 'Value' with the actual values\n",
    "\n",
    "# Step 1: Predict the values using the fitted model for the length of the test set\n",
    "# The forecast method's output depends on the statsmodels version\n",
    "# We'll use the get_prediction and summary_frame functions for compatibility\n",
    "forecast_results = result_model_arima_234.get_prediction(start=len(train), end=len(train)+len(test)-1)\n",
    "predicted_mean = forecast_results.predicted_mean\n",
    "\n",
    "# Step 2: Compare the predicted values with the actual values\n",
    "actual_values = test['price'].values  # Ensure this is an array\n",
    "\n",
    "# Step 3: Calculate the MAE and RMSE\n",
    "mae = mean_absolute_error(actual_values, predicted_mean)\n",
    "rmse = sqrt(mean_squared_error(actual_values, predicted_mean))\n",
    "\n",
    "print('The MAE is', mae)\n",
    "print('The RMSE is', rmse)\n"
   ]
  }
 ],
 "metadata": {
  "kernelspec": {
   "display_name": "Hck7",
   "language": "python",
   "name": "python3"
  },
  "language_info": {
   "codemirror_mode": {
    "name": "ipython",
    "version": 3
   },
   "file_extension": ".py",
   "mimetype": "text/x-python",
   "name": "python",
   "nbconvert_exporter": "python",
   "pygments_lexer": "ipython3",
   "version": "3.8.17"
  }
 },
 "nbformat": 4,
 "nbformat_minor": 2
}
